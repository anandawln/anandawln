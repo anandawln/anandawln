{
  "nbformat": 4,
  "nbformat_minor": 0,
  "metadata": {
    "colab": {
      "provenance": [],
      "include_colab_link": true
    },
    "kernelspec": {
      "name": "python3",
      "display_name": "Python 3"
    },
    "language_info": {
      "name": "python"
    }
  },
  "cells": [
    {
      "cell_type": "markdown",
      "metadata": {
        "id": "view-in-github",
        "colab_type": "text"
      },
      "source": [
        "<a href=\"https://colab.research.google.com/github/anandawln/anandawln/blob/main/PYTHON_by_Dicoding.ipynb\" target=\"_parent\"><img src=\"https://colab.research.google.com/assets/colab-badge.svg\" alt=\"Open In Colab\"/></a>"
      ]
    },
    {
      "cell_type": "code",
      "execution_count": null,
      "metadata": {
        "colab": {
          "base_uri": "https://localhost:8080/"
        },
        "id": "Qynch-fXOYMh",
        "outputId": "ccf8d06f-83dd-4fc3-9c19-1cc9476dbeca"
      },
      "outputs": [
        {
          "output_type": "stream",
          "name": "stdout",
          "text": [
            "<class 'str'>\n",
            "<class 'str'>\n",
            "<class 'int'>\n",
            "<class 'bool'>\n"
          ]
        }
      ],
      "source": [
        "# ctrl dan / akan menghasilkan tanda (#)\n",
        "# Tipe Data (Kuis 1)\n",
        "firstName = 'Wulan'\n",
        "lastName = 'Ananda'\n",
        "age = 23\n",
        "isMarried = False\n",
        "print(type(firstName))\n",
        "print(type(lastName))\n",
        "print(type(age))\n",
        "print(type(isMarried))"
      ]
    },
    {
      "cell_type": "code",
      "source": [],
      "metadata": {
        "id": "KbWmlzOXlVJP"
      },
      "execution_count": null,
      "outputs": []
    },
    {
      "cell_type": "code",
      "source": [
        "x = 11\n",
        "y = 5\n",
        "\n",
        "print(x // y)\n",
        "print(x / y)\n",
        "print(x % y)\n",
        "print(x ** y)"
      ],
      "metadata": {
        "colab": {
          "base_uri": "https://localhost:8080/"
        },
        "id": "OFNc3o-gdiB0",
        "outputId": "2621ef78-cbdf-4c23-a2aa-e27d19a1fea0"
      },
      "execution_count": null,
      "outputs": [
        {
          "output_type": "stream",
          "name": "stdout",
          "text": [
            "2\n",
            "2.2\n",
            "1\n",
            "161051\n"
          ]
        }
      ]
    },
    {
      "cell_type": "code",
      "source": [
        "# Dictionary (Kuis 2)\n",
        "data_diri = {\"firstName\":\"Wulan\", \"lastName\":\"Ananda\", \"age\":23, \"isMarried\":False}\n",
        "print(data_diri)\n",
        "print(data_diri[\"firstName\"])\n",
        "print(data_diri[\"lastName\"])\n",
        "print(data_diri[\"age\"])\n",
        "print(data_diri[\"isMarried\"])"
      ],
      "metadata": {
        "colab": {
          "base_uri": "https://localhost:8080/"
        },
        "id": "O5j_QpZfx3j8",
        "outputId": "7e3453b3-7f43-453d-bf6a-d57b1bea4bc4"
      },
      "execution_count": null,
      "outputs": [
        {
          "output_type": "stream",
          "name": "stdout",
          "text": [
            "{'firstName': 'Wulan', 'lastName': 'Ananda', 'age': 23, 'isMarried': False}\n",
            "Wulan\n",
            "Ananda\n",
            "23\n",
            "False\n"
          ]
        }
      ]
    },
    {
      "cell_type": "code",
      "source": [
        "# Transformation\n",
        "text = \"Dicoding\"\n",
        "print(text.upper())\n",
        "print(text.lower())\n",
        "# menghapus spasi\n",
        "print(\"dicoding      \".rstrip())  # menghapus di akhir\n",
        "print(\"      dicoding\".lstrip())  # menghapus di awal\n",
        "print(\"    dicoding    \".strip()) # menghapus di awal dan akhir\n",
        "kata = 'codecodedicodingcodecode'\n",
        "print(kata.strip(\"code\"))  #untuk membuang kata sesudah dan sebelum\n",
        "print('dicoding Indonesia'.startswith('dicoding')) # untuk menemukan suatu kata (di awal)\n",
        "print('dicoding indonesia'.endswith('dicoding')) #untuk menemukan suatu kata (diakhir)\n",
        "print(' '.join(['Dicoding','Indonesia', '!'])) # untuk menggabungkan string\n",
        "print('123'.join(['dicoding','indonesia']))   # untuk menggabungkan dengan menambah delimiter\n",
        "print('dicoding indonesia !'.split())  # memisahkan kata berdasarkan delimiter\n",
        "print('''Halo,\n",
        "aku ikan,\n",
        "aku suka sekali menyelam\n",
        "aku tinggal di perairan.\n",
        "Badanku licin dan renangku cepat.\n",
        "Senang berkenalan denganmu.'''.split('\\n'))  #(\\n)untuk memisahkan setiap baris pada string multiline\n",
        "string = 'ayo belajar coding di DiCO'\n",
        "print(string.replace(\"coding\", \"pemograman\")) #untuk mereplace\n",
        "kata = 'DICODING'\n",
        "print(kata.isupper()) #akaN mengembalikan nilai true jika semua huruf dalam string adalah kapital\n",
        "KATA = 'dicoding'\n",
        "print(KATA.islower()) #akan mengembalikan true jika semua huruf kecil\n",
        "kelas = 'python pemula'\n",
        "print(kelas.isalpha()) #true jika semua karakter adalah alfabet\n",
        "kode = 'dicoding127'\n",
        "print(kode.isalnum()) #true jika karakter dalam string adalah alfa+numerik\n",
        "print('123'.isdecimal()) #true jika dalam string hanya ada angka/numerik\n",
        "print('      '.isspace()) #true jika hanya berisi whitespace: spasi, tab, newline dll\n",
        "print('Dicoding Indonesia'.istitle()) #true jika ada huruf kapital di setiap kata pertamanya\n",
        "teks = 'Code'\n",
        "tambah_number = teks.zfill(5) #untuk menambahkan nilai 0 di depan sebuah string\n",
        "print(tambah_number)          #alasan angka 5 krn code= 4 ditambahi dengan 0 nambah 1 jadi 5\n",
        "print('Dicoding'.rjust(20))  # untuk merapihkan cetakan teks, 20: panjangnya nanti ada 20\n",
        "print('Dicoding'.rjust(20, '!'))\n",
        "print('Dicoding'.ljust(20)) #rata kiri, kebalikan rjust\n",
        "print('Dicoding'.center(10, '-')) # rata tengah\n",
        "\n",
        "\n",
        "\n"
      ],
      "metadata": {
        "colab": {
          "base_uri": "https://localhost:8080/"
        },
        "id": "cnAKz7aw9ZDi",
        "outputId": "9da4a497-1ae4-43e3-b1cc-30ba28c988f6"
      },
      "execution_count": null,
      "outputs": [
        {
          "output_type": "stream",
          "name": "stdout",
          "text": [
            "DICODING\n",
            "dicoding\n",
            "dicoding\n",
            "dicoding\n",
            "dicoding\n",
            "icoding\n",
            "True\n",
            "False\n",
            "Dicoding Indonesia !\n",
            "dicoding123indonesia\n",
            "['dicoding', 'indonesia', '!']\n",
            "['Halo,', 'aku ikan,', 'aku suka sekali menyelam', 'aku tinggal di perairan.', 'Badanku licin dan renangku cepat.', 'Senang berkenalan denganmu.']\n",
            "ayo belajar pemograman di DiCO\n",
            "True\n",
            "True\n",
            "False\n",
            "True\n",
            "True\n",
            "True\n",
            "True\n",
            "0Code\n",
            "            Dicoding\n",
            "!!!!!!!!!!!!Dicoding\n",
            "Dicoding            \n",
            "-Dicoding-\n"
          ]
        }
      ]
    },
    {
      "cell_type": "code",
      "source": [
        "# string literals\n",
        "# st1 = 'Jum'at'\n",
        "st1 = \"Jum'at\"\n",
        "# st2 = 'Jum'at' jika mengetiknya gini salah karena python akan menganggap terakhir kata di huruf m\n",
        "print(st1)\n",
        "st3 = 'Jum\\'at' #alternatif yang benar jika ingin menggunakan petik 1\n",
        "print(st3)\n",
        "# \\' Single quote\n",
        "# \\\" Double quote\n",
        "# \\t Tab\n",
        "# \\n Newline (line break)\n",
        "# \\\\ Backslash\n",
        "print(\"Halo!\\nKapan terakhir kali kita bertemu?\\nKita bertemu hari Jum\\'at yang lalu.\")\n",
        "\n",
        "# Raw string\n",
        "print(r'Dicoding\\tIndonesia')  #mencetak string sesuai dengan apapun input yang kita berikan\n"
      ],
      "metadata": {
        "colab": {
          "base_uri": "https://localhost:8080/"
        },
        "id": "sMVdYQxGcoam",
        "outputId": "4e6ac9d9-0c29-4487-8fe2-45c83cff46bd"
      },
      "execution_count": null,
      "outputs": [
        {
          "output_type": "stream",
          "name": "stdout",
          "text": [
            "Jum'at\n",
            "Jum'at\n",
            "Halo!\n",
            "Kapan terakhir kali kita bertemu?\n",
            "Kita bertemu hari Jum'at yang lalu.\n",
            "Dicoding\\tIndonesia\n"
          ]
        }
      ]
    },
    {
      "cell_type": "code",
      "source": [
        "# len: menghitung panjang / banyaknya elemen dari, list, set, dan string\n",
        "contoh_list = [1, 3, 3, 5, 5, 5, 7, 7, 9]\n",
        "\n",
        "print(contoh_list)\n",
        "print(len(contoh_list))\n",
        "\n",
        "contoh_list = set([1, 3, 3, 5, 5, 5, 7, 7, 9]) #set:agar tidak duplikat\n",
        "\n",
        "print(contoh_list)\n",
        "print(len(contoh_list)) # kenapa hasilnya 5? krn ada nomor yang duplikat jadi yg dihitung hanya yang beda saja\n",
        "\n",
        "# min & max\n",
        "angka = [13, 7, 24, 5, 96, 84, 71, 11, 38]\n",
        "print(min(angka))\n",
        "print(max(angka))\n",
        "\n",
        "# count: untuk mngetahui berap akli suatu objek muncul dalam list\n",
        "genap = [2, 4, 4, 6, 6, 6, 8, 10, 10]\n",
        "print(genap.count(6))\n",
        "\n",
        "string = \"Belajar Python di Dicoding sangat menyenangkan\"\n",
        "substring = \"a\"\n",
        "print(string.count(substring))"
      ],
      "metadata": {
        "colab": {
          "base_uri": "https://localhost:8080/"
        },
        "id": "HYq7Y7_Jd-1h",
        "outputId": "990816ab-4062-4831-935d-3fa55478f754"
      },
      "execution_count": null,
      "outputs": [
        {
          "output_type": "stream",
          "name": "stdout",
          "text": [
            "[1, 3, 3, 5, 5, 5, 7, 7, 9]\n",
            "9\n",
            "{1, 3, 5, 7, 9}\n",
            "5\n",
            "5\n",
            "96\n",
            "3\n",
            "6\n"
          ]
        }
      ]
    },
    {
      "cell_type": "code",
      "source": [
        "# in & not in; akan mengembalikan nilai true/false\n",
        "kalimat = \"Belajar Python di Dicoding sangat menyenangkan\"\n",
        "print('Dicoding' in kalimat)\n",
        "print('tidak' in kalimat)\n",
        "print('Dicoding' not in kalimat)\n",
        "print('tidak' not in kalimat)"
      ],
      "metadata": {
        "colab": {
          "base_uri": "https://localhost:8080/"
        },
        "id": "XUT4T8o4fdse",
        "outputId": "91b9274e-e93a-4a3c-cd14-b0f9f7ee433f"
      },
      "execution_count": null,
      "outputs": [
        {
          "output_type": "stream",
          "name": "stdout",
          "text": [
            "True\n",
            "False\n",
            "False\n",
            "True\n"
          ]
        }
      ]
    },
    {
      "cell_type": "code",
      "source": [
        "# memberikan nilai untuk multiple variable\n",
        "data = ['shirt', 'white', 'L']\n",
        "apparel = data[0]\n",
        "color = data[1]\n",
        "size = data[2]\n",
        "print(data)\n",
        "print(apparel)\n",
        "print(color)\n",
        "print(size)\n"
      ],
      "metadata": {
        "colab": {
          "base_uri": "https://localhost:8080/"
        },
        "id": "i_VTaiJKfvfF",
        "outputId": "a34544bb-86be-4323-b8ca-8a88540ec0d8"
      },
      "execution_count": null,
      "outputs": [
        {
          "output_type": "stream",
          "name": "stdout",
          "text": [
            "['shirt', 'white', 'L']\n",
            "shirt\n",
            "white\n",
            "L\n"
          ]
        }
      ]
    },
    {
      "cell_type": "code",
      "source": [
        "# cara lain\n",
        "data = ['shirt', 'white', 'L']\n",
        "apparel, color, size = data\n",
        "\n",
        "print(data)\n",
        "print(apparel)\n",
        "print(color)\n",
        "print(size)"
      ],
      "metadata": {
        "colab": {
          "base_uri": "https://localhost:8080/"
        },
        "id": "gYH9KZ_ZgEwg",
        "outputId": "290a1477-d76d-442f-bef1-459c81f49147"
      },
      "execution_count": null,
      "outputs": [
        {
          "output_type": "stream",
          "name": "stdout",
          "text": [
            "['shirt', 'white', 'L']\n",
            "shirt\n",
            "white\n",
            "L\n"
          ]
        }
      ]
    },
    {
      "cell_type": "code",
      "source": [
        "# sort\n",
        "kendaraan = ['motor', 'mobil', 'helikopter', 'pesawat']\n",
        "kendaraan.sort()\n",
        "\n",
        "print(kendaraan)\n",
        "\n",
        "kendaraan = ['motor', 'mobil', 'helikopter', 'pesawat']\n",
        "kendaraan.sort(reverse=True) # untuk mengembalikan urutan\n",
        "\n",
        "print(kendaraan)\n",
        "\n",
        "\n",
        "# urutan = ['Dicoding', 1, 2, 'Indonesia', 3] (tidak akan bisa karena gabungan string dan integer)\n",
        "# urutan.sort()\n",
        "\n",
        "# print(urutan)\n",
        "\n",
        "kendaraan = ['motor', 'mobil', 'helikopter', 'Pesawat']\n",
        "kendaraan.sort()\n",
        "\n",
        "print(kendaraan) # sort itu menggunakan metode ASCII sehingga akan mengurutkan berdasarkan yang memiliki huruf kapital terlebih dahulu daripada lowercase\n",
        "\n",
        "\n"
      ],
      "metadata": {
        "colab": {
          "base_uri": "https://localhost:8080/"
        },
        "id": "GjgUT0QrgVpb",
        "outputId": "09650b53-0295-4cde-e3b0-e5c6322dd726"
      },
      "execution_count": null,
      "outputs": [
        {
          "output_type": "stream",
          "name": "stdout",
          "text": [
            "['helikopter', 'mobil', 'motor', 'pesawat']\n",
            "['pesawat', 'motor', 'mobil', 'helikopter']\n"
          ]
        }
      ]
    },
    {
      "cell_type": "code",
      "source": [
        "var_list = [792564, 465231, 203748, 981037, 857219, 314092, 608345, 123907, 736890, 985026,\n",
        "179430, 450218, 680934, 543187, 978260, 283045, 617902, 405826, 820913, 731095,\n",
        "592403, 109237, 874956, 605132, 214978, 674519, 391047, 825160, 509317, 768490,\n",
        "950283, 307491, 487610, 532198, 605132, 160984, 609873, 245016, 879043, 734126,\n",
        "351809, 670594, 920873, 605132, 596410, 135890, 804512, 683420, 290753, 931560,\n",
        "175430, 950672, 378490, 284105, 746098, 503624, 605132, 167432, 974810, 519463,\n",
        "407835, 740326, 281709, 630921, 953284, 605132, 429731, 183607, 369012, 541380,\n",
        "605132, 217605, 496803, 827309, 153607, 605132, 720459, 381904, 594031, 810235,\n",
        "673925, 492157, 835096, 260481, 956024, 540329, 806295, 320158, 751903, 980465,\n",
        "235780, 857943, 605132, 125094, 620493, 913250\n",
        "]\n",
        "\n",
        "# Menghitung panjang list\n",
        "panjang = len(var_list)\n",
        "\n",
        "# Mencari nilai maksimum dalam list\n",
        "maksimal = max(var_list)\n",
        "\n",
        "# Mencari nilai minimum dalam list\n",
        "minimal = min(var_list)\n",
        "\n",
        "# Menghitung berapa banyak angka 605132 dalam list\n",
        "banyak = var_list.count(605132)\n",
        "\n",
        "# Menampilkan hasil\n",
        "print(\"Panjang list:\", panjang)\n",
        "print(\"Nilai maksimal:\", maksimal)\n",
        "print(\"Nilai minimal:\", minimal)\n",
        "print(\"Jumlah angka 605132:\", banyak)"
      ],
      "metadata": {
        "colab": {
          "base_uri": "https://localhost:8080/"
        },
        "id": "4PrBd8SXhm4c",
        "outputId": "5083b890-64fb-4520-8c51-4a1d71ce0bba"
      },
      "execution_count": null,
      "outputs": [
        {
          "output_type": "stream",
          "name": "stdout",
          "text": [
            "Panjang list: 96\n",
            "Nilai maksimal: 985026\n",
            "Nilai minimal: 109237\n",
            "Jumlah angka 605132: 8\n"
          ]
        }
      ]
    },
    {
      "cell_type": "code",
      "source": [
        "var_list = [792564, 465231, 203748, 981037, 857219, 314092, 608345, 123907, 736890, 985026,\n",
        "179430, 450218, 680934, 543187, 978260, 283045, 617902, 405826, 820913, 731095,\n",
        "592403, 109237, 874956, 605132, 214978, 674519, 391047, 825160, 509317, 768490,\n",
        "950283, 307491, 487610, 532198, 605132, 160984, 609873, 245016, 879043, 734126,\n",
        "351809, 670594, 920873, 605132, 596410, 135890, 804512, 683420, 290753, 931560,\n",
        "175430, 950672, 378490, 284105, 746098, 503624, 605132, 167432, 974810, 519463,\n",
        "407835, 740326, 281709, 630921, 953284, 605132, 429731, 183607, 369012, 541380,\n",
        "605132, 217605, 496803, 827309, 153607, 605132, 720459, 381904, 594031, 810235,\n",
        "673925, 492157, 835096, 260481, 956024, 540329, 806295, 320158, 751903, 980465,\n",
        "235780, 857943, 605132, 125094, 620493, 913250\n",
        "]\n",
        "\n",
        "# Menghitung panjang list\n",
        "panjang = len(var_list)\n",
        "\n",
        "# Mencari nilai maksimum dalam list\n",
        "maksimal = max(var_list)\n",
        "\n",
        "# Mencari nilai minimum dalam list\n",
        "minimal = min(var_list)\n",
        "\n",
        "# Menghitung berapa banyak angka 605132 dalam list\n",
        "banyak = var_list.count(605132)\n",
        "\n",
        "print(panjang)\n",
        "print(maksimal)\n",
        "print(minimal)\n",
        "print(banyak)"
      ],
      "metadata": {
        "colab": {
          "base_uri": "https://localhost:8080/"
        },
        "id": "dhPfNbt4jf0G",
        "outputId": "d1304ab1-62b8-4b1d-bb4c-5c01672fd494"
      },
      "execution_count": null,
      "outputs": [
        {
          "output_type": "stream",
          "name": "stdout",
          "text": [
            "96\n",
            "985026\n",
            "109237\n",
            "8\n"
          ]
        }
      ]
    },
    {
      "cell_type": "code",
      "source": [
        "x = { 'name': 'Coding', 'age': 20, 'isMarried': False }\n",
        "x ['name'] = \"Dicoding\"\n",
        "print(x)\n",
        "\n",
        "x = (5, 'program', 1+3j)\n",
        "x[1] = 'Dicoding'\n",
        "print(x)"
      ],
      "metadata": {
        "colab": {
          "base_uri": "https://localhost:8080/",
          "height": 219
        },
        "id": "QtkhmJ7ik4IK",
        "outputId": "d3f34322-bcfe-4007-b98c-f27b89092f31"
      },
      "execution_count": null,
      "outputs": [
        {
          "output_type": "stream",
          "name": "stdout",
          "text": [
            "{'name': 'Dicoding', 'age': 20, 'isMarried': False}\n"
          ]
        },
        {
          "output_type": "error",
          "ename": "TypeError",
          "evalue": "'tuple' object does not support item assignment",
          "traceback": [
            "\u001b[0;31m---------------------------------------------------------------------------\u001b[0m",
            "\u001b[0;31mTypeError\u001b[0m                                 Traceback (most recent call last)",
            "\u001b[0;32m<ipython-input-39-da2d44372a08>\u001b[0m in \u001b[0;36m<cell line: 6>\u001b[0;34m()\u001b[0m\n\u001b[1;32m      4\u001b[0m \u001b[0;34m\u001b[0m\u001b[0m\n\u001b[1;32m      5\u001b[0m \u001b[0mx\u001b[0m \u001b[0;34m=\u001b[0m \u001b[0;34m(\u001b[0m\u001b[0;36m5\u001b[0m\u001b[0;34m,\u001b[0m \u001b[0;34m'program'\u001b[0m\u001b[0;34m,\u001b[0m \u001b[0;36m1\u001b[0m\u001b[0;34m+\u001b[0m\u001b[0;36m3j\u001b[0m\u001b[0;34m)\u001b[0m\u001b[0;34m\u001b[0m\u001b[0;34m\u001b[0m\u001b[0m\n\u001b[0;32m----> 6\u001b[0;31m \u001b[0mx\u001b[0m\u001b[0;34m[\u001b[0m\u001b[0;36m1\u001b[0m\u001b[0;34m]\u001b[0m \u001b[0;34m=\u001b[0m \u001b[0;34m'Dicoding'\u001b[0m\u001b[0;34m\u001b[0m\u001b[0;34m\u001b[0m\u001b[0m\n\u001b[0m\u001b[1;32m      7\u001b[0m \u001b[0mprint\u001b[0m\u001b[0;34m(\u001b[0m\u001b[0mx\u001b[0m\u001b[0;34m)\u001b[0m\u001b[0;34m\u001b[0m\u001b[0;34m\u001b[0m\u001b[0m\n",
            "\u001b[0;31mTypeError\u001b[0m: 'tuple' object does not support item assignment"
          ]
        }
      ]
    },
    {
      "cell_type": "code",
      "source": [
        "x = 'Dicoding'\n",
        "x[0] = 'F'\n",
        "print(x)"
      ],
      "metadata": {
        "id": "tqckIVvllZtU",
        "outputId": "390b72a6-8626-4f96-86d0-fa0166b5a1ea",
        "colab": {
          "base_uri": "https://localhost:8080/",
          "height": 182
        }
      },
      "execution_count": null,
      "outputs": [
        {
          "output_type": "error",
          "ename": "TypeError",
          "evalue": "'str' object does not support item assignment",
          "traceback": [
            "\u001b[0;31m---------------------------------------------------------------------------\u001b[0m",
            "\u001b[0;31mTypeError\u001b[0m                                 Traceback (most recent call last)",
            "\u001b[0;32m<ipython-input-40-49da3c44244c>\u001b[0m in \u001b[0;36m<cell line: 2>\u001b[0;34m()\u001b[0m\n\u001b[1;32m      1\u001b[0m \u001b[0mx\u001b[0m \u001b[0;34m=\u001b[0m \u001b[0;34m'Dicoding'\u001b[0m\u001b[0;34m\u001b[0m\u001b[0;34m\u001b[0m\u001b[0m\n\u001b[0;32m----> 2\u001b[0;31m \u001b[0mx\u001b[0m\u001b[0;34m[\u001b[0m\u001b[0;36m0\u001b[0m\u001b[0;34m]\u001b[0m \u001b[0;34m=\u001b[0m \u001b[0;34m'F'\u001b[0m\u001b[0;34m\u001b[0m\u001b[0;34m\u001b[0m\u001b[0m\n\u001b[0m\u001b[1;32m      3\u001b[0m \u001b[0mprint\u001b[0m\u001b[0;34m(\u001b[0m\u001b[0mx\u001b[0m\u001b[0;34m)\u001b[0m\u001b[0;34m\u001b[0m\u001b[0;34m\u001b[0m\u001b[0m\n",
            "\u001b[0;31mTypeError\u001b[0m: 'str' object does not support item assignment"
          ]
        }
      ]
    },
    {
      "cell_type": "code",
      "source": [
        "# EKSPRESI\n"
      ],
      "metadata": {
        "id": "Yj57_IJVoD3O"
      },
      "execution_count": null,
      "outputs": []
    },
    {
      "cell_type": "code",
      "source": [
        "# Jangan ubah kode ini\n",
        "dico = 750000\n",
        "\n",
        "# TODO: Silakan buat kode Anda di bawah ini.\n",
        "if dico > 500000:\n",
        "    diskon = 0.10  # 10% diskon\n",
        "    total_harga = dico - (dico * diskon)  # Menghitung total harga setelah diskon\n",
        "else:\n",
        "    total_harga = dico  # Jika tidak memenuhi syarat, total harga tetap\n",
        "\n",
        "# Menampilkan total harga setelah diskon\n",
        "print(\"Total harga belanja Dico setelah diskon adalah:\", total_harga)"
      ],
      "metadata": {
        "colab": {
          "base_uri": "https://localhost:8080/"
        },
        "id": "ii3Pz9rWfmFb",
        "outputId": "448f532a-27f0-4a89-babe-663f387b2509"
      },
      "execution_count": null,
      "outputs": [
        {
          "output_type": "stream",
          "name": "stdout",
          "text": [
            "Total harga belanja Dico setelah diskon adalah: 675000.0\n"
          ]
        }
      ]
    },
    {
      "cell_type": "code",
      "source": [
        "dico = 750000\n",
        "\n",
        "if dico > 500000:\n",
        "    diskon = 0.10  # 10% diskon\n",
        "    total_harga = dico - (dico * diskon)  # Menghitung total harga setelah diskon\n",
        "else:\n",
        "    total_harga = dico  # Jika tidak memenuhi syarat, total harga tetap\n",
        "\n",
        "# Menampilkan total harga setelah diskon\n",
        "print(total_harga)"
      ],
      "metadata": {
        "colab": {
          "base_uri": "https://localhost:8080/"
        },
        "id": "gRLcGuZYf9z6",
        "outputId": "8fa8e349-e315-461c-a839-3a1a511e8cf4"
      },
      "execution_count": null,
      "outputs": [
        {
          "output_type": "stream",
          "name": "stdout",
          "text": [
            "675000.0\n"
          ]
        }
      ]
    },
    {
      "cell_type": "code",
      "source": [
        "x = \"Belajar\"\n",
        "y = \"Python\"\n",
        "result = x > y\n",
        "print(result)\n",
        "\n",
        "x = 1960\n",
        "y = 901\n",
        "print(x % y)"
      ],
      "metadata": {
        "colab": {
          "base_uri": "https://localhost:8080/"
        },
        "id": "q_LUaZy_g0NC",
        "outputId": "c4eae30a-237a-4fc6-e4eb-174987d8846e"
      },
      "execution_count": null,
      "outputs": [
        {
          "output_type": "stream",
          "name": "stdout",
          "text": [
            "False\n",
            "158\n"
          ]
        }
      ]
    },
    {
      "cell_type": "code",
      "source": [
        "# AKSI SEKUENSIAL --> intruksi akan dijalankan berdasarkan urutan penulisannya\n",
        "# Python Interpreter\n",
        "# compiler: program untuk menerjemahkan bahasa pemograman ke bahasa mesin sebelum dijalankan\n",
        "# interpreter: akan menerjemahkan python ke bahasa mesin secara langsung\n",
        "# Block Code\n",
        "for i in range(10):\n",
        "    print(i)\n",
        "\n",
        "# Case sensitive --> beda huruf kecil besar beda makna\n",
        "teks = \"Dicoding\"\n",
        "Teks = \"Indonesia\"\n",
        "\n",
        "print(teks)\n",
        "print(Teks)\n",
        "\n",
        "# One-Liner --> gaya penulisan python untuk memungkinkan anda memebuat sebuah kode hanya dalam satu baris\n",
        "x = 1\n",
        "y = 2\n",
        "\n",
        "temp = x\n",
        "x = y\n",
        "y = temp\n",
        "\n",
        "print(\"Setelah pertukaran: \")\n",
        "print(\"x = \", x)\n",
        "print(\"y =\",  y)\n",
        "\n",
        "\n",
        "x = 1\n",
        "y = 2\n",
        "\n",
        "x, y = y, x    # One-liner\n",
        "\n",
        "print('Setelah pertukaran: ')\n",
        "print('x =', x)\n",
        "print('y =', y)\n",
        "\n"
      ],
      "metadata": {
        "colab": {
          "base_uri": "https://localhost:8080/"
        },
        "id": "c09Mrqqv09KF",
        "outputId": "7d682cc6-7e51-44db-e838-668a6ceb1a4a"
      },
      "execution_count": null,
      "outputs": [
        {
          "output_type": "stream",
          "name": "stdout",
          "text": [
            "0\n",
            "1\n",
            "2\n",
            "3\n",
            "4\n",
            "5\n",
            "6\n",
            "7\n",
            "8\n",
            "9\n",
            "Dicoding\n",
            "Indonesia\n",
            "Setelah pertukaran: \n",
            "x =  2\n",
            "y = 1\n",
            "Setelah pertukaran: \n",
            "x = 2\n",
            "y = 1\n"
          ]
        }
      ]
    },
    {
      "cell_type": "code",
      "source": [
        "# TODO: Silakan buat kode Anda di bawah ini.\n",
        "evenNumber = [num for num in range(501) if num % 2 == 0]\n",
        "\n",
        "# Menampilkan hasil\n",
        "print(evenNumber)\n",
        "\n",
        "i = 9\n",
        "if i<10:\n",
        "    print(i)\n",
        "\n",
        "lulus = True\n",
        "print(\"Dicoding Indonesia\") if lulus else print(\"Python\")"
      ],
      "metadata": {
        "colab": {
          "base_uri": "https://localhost:8080/"
        },
        "id": "yHJpL_V8TmRP",
        "outputId": "d953459b-d1b1-4813-bef7-0081799735f9"
      },
      "execution_count": null,
      "outputs": [
        {
          "output_type": "stream",
          "name": "stdout",
          "text": [
            "[0, 2, 4, 6, 8, 10, 12, 14, 16, 18, 20, 22, 24, 26, 28, 30, 32, 34, 36, 38, 40, 42, 44, 46, 48, 50, 52, 54, 56, 58, 60, 62, 64, 66, 68, 70, 72, 74, 76, 78, 80, 82, 84, 86, 88, 90, 92, 94, 96, 98, 100, 102, 104, 106, 108, 110, 112, 114, 116, 118, 120, 122, 124, 126, 128, 130, 132, 134, 136, 138, 140, 142, 144, 146, 148, 150, 152, 154, 156, 158, 160, 162, 164, 166, 168, 170, 172, 174, 176, 178, 180, 182, 184, 186, 188, 190, 192, 194, 196, 198, 200, 202, 204, 206, 208, 210, 212, 214, 216, 218, 220, 222, 224, 226, 228, 230, 232, 234, 236, 238, 240, 242, 244, 246, 248, 250, 252, 254, 256, 258, 260, 262, 264, 266, 268, 270, 272, 274, 276, 278, 280, 282, 284, 286, 288, 290, 292, 294, 296, 298, 300, 302, 304, 306, 308, 310, 312, 314, 316, 318, 320, 322, 324, 326, 328, 330, 332, 334, 336, 338, 340, 342, 344, 346, 348, 350, 352, 354, 356, 358, 360, 362, 364, 366, 368, 370, 372, 374, 376, 378, 380, 382, 384, 386, 388, 390, 392, 394, 396, 398, 400, 402, 404, 406, 408, 410, 412, 414, 416, 418, 420, 422, 424, 426, 428, 430, 432, 434, 436, 438, 440, 442, 444, 446, 448, 450, 452, 454, 456, 458, 460, 462, 464, 466, 468, 470, 472, 474, 476, 478, 480, 482, 484, 486, 488, 490, 492, 494, 496, 498, 500]\n",
            "9\n",
            "Dicoding Indonesia\n"
          ]
        }
      ]
    },
    {
      "cell_type": "code",
      "source": [
        "# Jangan ubah kode ini\n",
        "var_array = [i for i in range(101)]\n",
        "\n",
        "# TODO: Silakan buat kode Anda di bawah ini.\n",
        "total = 0  # Inisialisasi variabel untuk menyimpan total\n",
        "count = 0  # Inisialisasi variabel untuk menghitung jumlah elemen\n",
        "\n",
        "for num in var_array:  # Loop melalui setiap elemen dalam var_array\n",
        "    total += num  # Menambahkan nilai elemen ke total\n",
        "    count += 1    # Menghitung jumlah elemen\n",
        "\n",
        "# Menghitung rata-rata\n",
        "if count > 0:  # Memastikan count tidak nol untuk menghindari pembagian dengan nol\n",
        "    result = total / count  # Rata-rata = total / jumlah elemen\n",
        "else:\n",
        "    result = 0  # Jika tidak ada elemen, rata-rata adalah 0\n",
        "\n",
        "# Menampilkan hasil\n",
        "print(\"Nilai rata-rata dari elemen array adalah:\", result)"
      ],
      "metadata": {
        "id": "TovVj37vgEhU",
        "outputId": "4b42bd18-ec61-4dd2-f530-1c19ee7d5254",
        "colab": {
          "base_uri": "https://localhost:8080/"
        }
      },
      "execution_count": null,
      "outputs": [
        {
          "output_type": "stream",
          "name": "stdout",
          "text": [
            "Nilai rata-rata dari elemen array adalah: 50.0\n"
          ]
        }
      ]
    },
    {
      "cell_type": "code",
      "source": [
        "# Jangan ubah kode ini\n",
        "var_array = [i for i in range(101)]\n",
        "\n",
        "# TODO: Silakan buat kode Anda di bawah ini.\n",
        "total = 0\n",
        "count = 0\n",
        "\n",
        "# Menggunakan perulangan untuk menjumlahkan semua elemen\n",
        "for num in var_array:\n",
        "    total += num\n",
        "    count += 1\n",
        "\n",
        "# Menghitung rata-rata\n",
        "result = total / count if count > 0 else 0\n",
        "\n",
        "# Menampilkan hasil\n",
        "print(\"Rata-rata:\", result)"
      ],
      "metadata": {
        "id": "TACim_YJlYFA",
        "outputId": "609c734b-e6d6-4051-f08e-849abe8543f1",
        "colab": {
          "base_uri": "https://localhost:8080/"
        }
      },
      "execution_count": null,
      "outputs": [
        {
          "output_type": "stream",
          "name": "stdout",
          "text": [
            "Rata-rata: 50.0\n"
          ]
        }
      ]
    }
  ]
}